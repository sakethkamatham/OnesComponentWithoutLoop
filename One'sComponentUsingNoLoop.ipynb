{
  "nbformat": 4,
  "nbformat_minor": 0,
  "metadata": {
    "colab": {
      "provenance": [],
      "collapsed_sections": []
    },
    "kernelspec": {
      "name": "python3",
      "display_name": "Python 3"
    },
    "language_info": {
      "name": "python"
    }
  },
  "cells": [
    {
      "cell_type": "code",
      "execution_count": 57,
      "metadata": {
        "id": "dUV8EUk6eOxT"
      },
      "outputs": [],
      "source": [
        "decimal_number = 100\n",
        "binary_number = 0\n",
        "flag = 0\n",
        "temp = decimal_number\n",
        "ones_Complement = 0"
      ]
    },
    {
      "cell_type": "code",
      "source": [
        "def decToBin( decimal_number ):\n",
        "    if decimal_number == 0:\n",
        "        return 0\n",
        "    else:\n",
        "        return (decimal_number % 2 + 10 *\n",
        "                decToBin(int(decimal_number // 2)))\n",
        " \n",
        "binary_number = (decToBin(decimal_number))\n",
        "print(binary_number)"
      ],
      "metadata": {
        "colab": {
          "base_uri": "https://localhost:8080/"
        },
        "id": "5y0yTgkWeU5t",
        "outputId": "eef68973-5ef8-4fb8-a579-91a8cf45b045"
      },
      "execution_count": 58,
      "outputs": [
        {
          "output_type": "stream",
          "name": "stdout",
          "text": [
            "1100100\n"
          ]
        }
      ]
    },
    {
      "cell_type": "code",
      "source": [
        "def binToOne(bin,temp):\n",
        "  if bin == 0 :\n",
        "    return temp;\n",
        "  else : \n",
        "    ones_Complement = binToOne(bin//10, temp*10 + bin%10)\n",
        "    return ones_Complement\n",
        "\n"
      ],
      "metadata": {
        "id": "1gWoiz9RfbOM"
      },
      "execution_count": 59,
      "outputs": []
    },
    {
      "cell_type": "code",
      "source": [
        "print(\"one's complemet is : {}\" .format(binToOne(binary_number,0)))"
      ],
      "metadata": {
        "colab": {
          "base_uri": "https://localhost:8080/"
        },
        "id": "A719Lf9TmxAv",
        "outputId": "4c90f0dd-b40e-44c7-f4e0-62293031613c"
      },
      "execution_count": 63,
      "outputs": [
        {
          "output_type": "stream",
          "name": "stdout",
          "text": [
            "one's complemet is : 10011\n"
          ]
        }
      ]
    },
    {
      "cell_type": "code",
      "source": [],
      "metadata": {
        "id": "pn6XdPFVnRFT"
      },
      "execution_count": null,
      "outputs": []
    }
  ]
}